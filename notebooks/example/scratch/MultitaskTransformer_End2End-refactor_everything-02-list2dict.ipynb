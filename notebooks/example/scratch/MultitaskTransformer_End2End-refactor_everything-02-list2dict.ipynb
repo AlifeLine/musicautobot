{
 "cells": [
  {
   "cell_type": "code",
   "execution_count": 1,
   "metadata": {},
   "outputs": [],
   "source": [
    "%reload_ext autoreload\n",
    "%autoreload 2\n",
    "%matplotlib inline"
   ]
  },
  {
   "cell_type": "code",
   "execution_count": 2,
   "metadata": {},
   "outputs": [],
   "source": [
    "import os\n",
    "os.chdir('../../')"
   ]
  },
  {
   "cell_type": "code",
   "execution_count": 3,
   "metadata": {},
   "outputs": [],
   "source": [
    "from src.encode_data import *\n",
    "from src.data_sources import process_all, process_file\n",
    "from src.fastai_data import *\n",
    "from src.msklm import *\n",
    "from src.serve import *"
   ]
  },
  {
   "cell_type": "code",
   "execution_count": 4,
   "metadata": {},
   "outputs": [],
   "source": [
    "from fastai.text import *"
   ]
  },
  {
   "cell_type": "markdown",
   "metadata": {},
   "source": [
    "## Example notebook explaining how to encode midi to numpy array and train with fastai\n",
    "\n",
    "Numpy format "
   ]
  },
  {
   "cell_type": "code",
   "execution_count": 5,
   "metadata": {},
   "outputs": [],
   "source": [
    "data_path = Path('data')\n",
    "\n",
    "# Location of your midi files\n",
    "midi_path = data_path/'midi'\n",
    "midi_path.mkdir(parents=True, exist_ok=True)\n",
    "\n",
    "# Location of transformed midi to numpy dataset\n",
    "numpy_path = data_path/'numpy'/'combined_tracks'\n",
    "numpy_path.mkdir(parents=True, exist_ok=True)\n",
    "\n",
    "s2s_path = data_path/'numpy'/'split_melody_chord'\n",
    "s2s_path.mkdir(parents=True, exist_ok=True)\n",
    "\n",
    "data_save_name = 'multi_data_idxenc.pkl'\n",
    "s2s_data_save_name = 'multi_data_s2s.pkl'"
   ]
  },
  {
   "cell_type": "markdown",
   "metadata": {},
   "source": [
    "## 1. Gather midi dataset"
   ]
  },
  {
   "cell_type": "markdown",
   "metadata": {},
   "source": [
    "Make sure all your midi data is in `musicautobot/data/midi` directory"
   ]
  },
  {
   "cell_type": "markdown",
   "metadata": {},
   "source": [
    "## 4. Load Model"
   ]
  },
  {
   "cell_type": "code",
   "execution_count": 6,
   "metadata": {},
   "outputs": [],
   "source": [
    "\n",
    "def mask_lm_tfm(b, mask_idx=vocab.mask_idx, pad_idx=vocab.pad_idx, p_mask=0.2):\n",
    "    x,y = b\n",
    "    x_lm,x_pos = x[...,0], x[...,1]\n",
    "    y_lm,y_pos = y[...,0], y[...,1]\n",
    "    \n",
    "    x_msk, y_msk = mask_tfm((y_lm, y_lm), p=p_mask) # masking instead of x. Just in case we ever do sequential s2s training\n",
    "    msk_pos = y_pos\n",
    "    \n",
    "    x_dict = { \n",
    "        'msk': {\n",
    "            'x': x_msk,\n",
    "            'pos': msk_pos\n",
    "        },\n",
    "        'lm': {\n",
    "            'x': x_lm,\n",
    "            'pos': msk_pos\n",
    "        }\n",
    "    }\n",
    "    y_dict = {\n",
    "        'msk': y_msk, 'lm': y_lm\n",
    "    }\n",
    "    return x_dict, y_dict\n",
    "#     return (x_msk, msk_pos, x_lm, x_pos, None, None, None, None), (y_msk, y_lm, None, None)"
   ]
  },
  {
   "cell_type": "code",
   "execution_count": 7,
   "metadata": {},
   "outputs": [],
   "source": [
    "def melody_chord_tfm(b, mlm_type=MLMType.M2C):\n",
    "    m,c = b\n",
    "    \n",
    "    m,m_pos = m[...,0], m[...,1]\n",
    "    c,c_pos = c[...,0], c[...,1]\n",
    "    \n",
    "    # offset x and y for next word prediction\n",
    "    y_m = m[:,1:]\n",
    "    x_m, m_pos = m[:,:-1], m_pos[:,:-1]\n",
    "    \n",
    "    y_c = c[:,1:]\n",
    "    x_c, c_pos = c[:,:-1], c_pos[:,:-1]\n",
    "    \n",
    "    \n",
    "    x_dict = { \n",
    "        'c2m': {\n",
    "            'enc': x_c,\n",
    "            'enc_pos': c_pos,\n",
    "            'dec': x_m,\n",
    "            'dec_pos': m_pos\n",
    "        },\n",
    "        'm2c': {\n",
    "            'enc': x_m,\n",
    "            'enc_pos': m_pos,\n",
    "            'dec': x_c,\n",
    "            'dec_pos': c_pos\n",
    "        }\n",
    "    }\n",
    "    y_dict = {\n",
    "        'c2m': y_m, 'm2c': y_c\n",
    "    }\n",
    "    return x_dict, y_dict\n",
    "    \n",
    "    # enc, dec, y_dec\n",
    "    # c2m first, m2c second\n",
    "#     return (None, None, None, None, x_c, c_pos, x_m, m_pos, x_m, m_pos, x_c, c_pos), (None, None, y_m, y_c)"
   ]
  },
  {
   "cell_type": "code",
   "execution_count": 8,
   "metadata": {},
   "outputs": [],
   "source": [
    "batch_size = 2\n",
    "\n",
    "lm_data = load_data(numpy_path, data_save_name, bs=batch_size, dl_tfms=mask_lm_tfm)\n",
    "\n",
    "s2s_data = load_data(s2s_path, s2s_data_save_name, \n",
    "                     bs=batch_size//2, preloader_cls=S2SPreloader, dl_tfms=melody_chord_tfm)"
   ]
  },
  {
   "cell_type": "code",
   "execution_count": 23,
   "metadata": {},
   "outputs": [],
   "source": [
    "\n",
    "def acc_ignore_pad(input:Tensor, targ:Tensor, pad_idx=vocab.pad_idx)->Rank0Tensor:\n",
    "    if input is None or targ is None: return None\n",
    "    n = targ.shape[0]\n",
    "    input = input.argmax(dim=-1).view(n,-1)\n",
    "    targ = targ.view(n,-1)\n",
    "    mask = targ != pad_idx\n",
    "    return (input[mask]==targ[mask]).float().mean()\n",
    "\n",
    "def acc_index(inputs, targets, key=None, pad_idx=vocab.pad_idx):\n",
    "    return acc_ignore_pad(inputs.get(key), targets.get(key), pad_idx)\n",
    "    \n",
    "def mask_acc(inputs, targets): return acc_index(inputs, targets, 'lm')\n",
    "def lm_acc(inputs, targets): return acc_index(inputs, targets, 'msk')\n",
    "def c2m_acc(inputs, targets): return acc_index(inputs, targets, 'c2m')\n",
    "def m2c_acc(inputs, targets): return acc_index(inputs, targets, 'm2c')\n"
   ]
  },
  {
   "cell_type": "code",
   "execution_count": 24,
   "metadata": {},
   "outputs": [],
   "source": [
    "# lm_data.one_batch()"
   ]
  },
  {
   "cell_type": "code",
   "execution_count": 25,
   "metadata": {},
   "outputs": [
    {
     "data": {
      "text/plain": [
       "{'ctx_len': 150,\n",
       " 'n_heads': 8,\n",
       " 'd_model': 512,\n",
       " 'd_head': 64,\n",
       " 'd_inner': 2048,\n",
       " 'resid_p': 0.1,\n",
       " 'attn_p': 0.1,\n",
       " 'ff_p': 0.1,\n",
       " 'embed_p': 0.1,\n",
       " 'output_p': 0.1,\n",
       " 'bias': True,\n",
       " 'scale': True,\n",
       " 'act': <Activation.GeLU: 3>,\n",
       " 'double_drop': True,\n",
       " 'tie_weights': True,\n",
       " 'out_bias': True,\n",
       " 'init': <function fastai.text.models.transformer.init_transformer(m)>,\n",
       " 'mem_len': 512,\n",
       " 'mask': True,\n",
       " 'pad_idx': 1,\n",
       " 'bos_idx': 0,\n",
       " 'sep_idx': 8,\n",
       " 'transpose_range': (0, 12),\n",
       " 'note_range': (9, 137),\n",
       " 'bs': 16,\n",
       " 'bptt': 256,\n",
       " 'vocab_size': 312,\n",
       " 'enc_layers': 8,\n",
       " 'dec_layers': 8}"
      ]
     },
     "execution_count": 25,
     "metadata": {},
     "output_type": "execute_result"
    }
   ],
   "source": [
    "config = mlm_config(vocab).copy(); config"
   ]
  },
  {
   "cell_type": "code",
   "execution_count": 26,
   "metadata": {},
   "outputs": [],
   "source": [
    "\n",
    "def get_mlm_model(vocab_sz:int, config:dict=None, drop_mult:float=1.):\n",
    "    \"Create a language model from `arch` and its `config`, maybe `pretrained`.\"\n",
    "    for k in config.keys(): \n",
    "        if k.endswith('_p'): config[k] *= drop_mult\n",
    "    n_hid = config['d_model']\n",
    "    mem_len = config.pop('mem_len')\n",
    "    embed = TransformerEmbedding(vocab_sz, n_hid, embed_p=config['embed_p'], mem_len=mem_len)\n",
    "    encoder = MLMEncoder(embed, n_hid, n_layers=config['enc_layers'], mem_len=0, **config) # encoder doesn't need memory\n",
    "    decoder = MLMEncoder(embed, n_hid, is_decoder=True, n_layers=config['dec_layers'], mem_len=mem_len, **config)\n",
    "    head = MLMLinearDecoder(n_hid, vocab_sz, tie_encoder=embed.embed, **config)\n",
    "    model = MultiTransformer(encoder, decoder, head, mem_len=mem_len)\n",
    "    return model.apply(init_transformer)\n",
    "\n",
    "\n",
    "def mlm_model_learner(data:DataBunch, config:dict=None, drop_mult:float=1., pretrained:bool=False,\n",
    "                        pretrained_fnames:OptStrTuple=None, **learn_kwargs) -> 'LanguageLearner':\n",
    "    \"Create a `Learner` with a language model from `data` and `arch`.\"\n",
    "    model = get_mlm_model(config['vocab_size'], config=config, drop_mult=drop_mult)\n",
    "    learn = MLMLearner(data, model, split_func=None,\n",
    "                        **learn_kwargs)\n",
    "    return learn"
   ]
  },
  {
   "cell_type": "code",
   "execution_count": 27,
   "metadata": {},
   "outputs": [],
   "source": [
    "data = CombinedData([lm_data, s2s_data])"
   ]
  },
  {
   "cell_type": "code",
   "execution_count": 28,
   "metadata": {},
   "outputs": [],
   "source": [
    "\n",
    "class AverageMultiMetric(AverageMetric):\n",
    "    \"Updated fastai.AverageMetric to support multi task metrics.\"\n",
    "    def on_batch_end(self, last_output, last_target, **kwargs):\n",
    "        \"Update metric computation with `last_output` and `last_target`.\"\n",
    "        if not is_listy(last_target): last_target=[last_target]\n",
    "        val = self.func(last_output, *last_target)\n",
    "        if val is None: return\n",
    "        self.count += first_el(last_target).size(0)\n",
    "        if self.world:\n",
    "            val = val.clone()\n",
    "            dist.all_reduce(val, op=dist.ReduceOp.SUM)\n",
    "            val /= self.world\n",
    "        self.val += first_el(last_target).size(0) * val.detach().cpu()\n",
    "\n",
    "    def on_epoch_end(self, last_metrics, **kwargs):\n",
    "        \"Set the final result in `last_metrics`.\"\n",
    "        if self.count == 0: return add_metrics(last_metrics, 0)\n",
    "        return add_metrics(last_metrics, self.val/self.count)"
   ]
  },
  {
   "cell_type": "code",
   "execution_count": 29,
   "metadata": {},
   "outputs": [],
   "source": [
    "\n",
    "class MultiTransformer(nn.Module):\n",
    "    def __init__(self, encoder, decoder, head, mem_len):\n",
    "        super().__init__()\n",
    "        self.encoder = encoder\n",
    "        self.decoder = decoder\n",
    "        self.head = head\n",
    "        self.default_mem_len = mem_len\n",
    "        self.current_mem_len = None\n",
    "    \n",
    "    def forward(self, inp):\n",
    "        # data order: mask, next word, melody, chord\n",
    "        outputs = {}\n",
    "        msk, lm, c2m, m2c = [inp.get(key) for key in ['msk', 'lm', 'c2m', 'm2c']]\n",
    "        \n",
    "        if msk is not None:\n",
    "            outputs['msk'] = self.head(self.encoder(msk['x'], msk['pos']))\n",
    "        if lm is not None:\n",
    "            outputs['lm'] = self.head(self.decoder(lm['x'], lm['pos']))\n",
    "        \n",
    "        if c2m is not None:\n",
    "            self.reset()\n",
    "            c2m_enc = self.encoder(c2m['enc'], c2m['enc_pos'])\n",
    "            c2m_dec = self.decoder(c2m['dec'], c2m['dec_pos'], c2m_enc)\n",
    "            outputs['c2m'] = self.head(c2m_dec)\n",
    "            \n",
    "        if m2c is not None:\n",
    "            self.reset()\n",
    "            m2c_enc = self.encoder(m2c['enc'], m2c['enc_pos'])\n",
    "            m2c_dec = self.decoder(m2c['dec'], m2c['dec_pos'], m2c_enc)\n",
    "            outputs['m2c'] = self.head(m2c_dec)\n",
    "            \n",
    "        return outputs\n",
    "    \n",
    "    \"A sequential module that passes the reset call to its children.\"\n",
    "    def reset(self):\n",
    "        for module in self.children(): \n",
    "            reset_children(module)\n",
    "            \n",
    "    def update_mem_len(self, use_mem):\n",
    "        # Only Next word predictions should have memory\n",
    "        next_mem_len = self.default_mem_len if use_mem else 0\n",
    "        if self.current_mem_len == next_mem_len: return\n",
    "        # print('Updating mem length to:', next_mem_len)\n",
    "        for module in self.children(): \n",
    "            update_mem_len(module, next_mem_len)\n",
    "        self.current_mem_len = next_mem_len\n",
    "        self.reset()\n",
    "        "
   ]
  },
  {
   "cell_type": "code",
   "execution_count": 31,
   "metadata": {},
   "outputs": [],
   "source": [
    "\n",
    "# LOSS AND METRICS\n",
    "class MultiLoss():\n",
    "    def __init__(self):\n",
    "        \"Loss mult - Mask, NextWord, Seq2Seq\"\n",
    "        self.loss = CrossEntropyFlat(ignore_index=vocab.pad_idx)\n",
    "        \n",
    "    def __call__(self, inputs:Dict[str,Tensor], targets:Dict[str,Tensor])->Rank0Tensor:\n",
    "        losses = [self.loss(inputs[key], target) for key,target in targets.items()]\n",
    "        return sum(losses)"
   ]
  },
  {
   "cell_type": "code",
   "execution_count": 32,
   "metadata": {},
   "outputs": [],
   "source": [
    "\n",
    "learn = mlm_model_learner(data, config.copy(), \n",
    "                           loss_func=MultiLoss())\n",
    "\n",
    "from fastai.callbacks.rnn import RNNTrainer\n",
    "learn.callbacks = [c for c in learn.callbacks if not isinstance(c, RNNTrainer)]\n",
    "\n",
    "learn.metrics = [AverageMultiMetric(m) for m in [mask_acc, lm_acc, c2m_acc, m2c_acc]]"
   ]
  },
  {
   "cell_type": "code",
   "execution_count": 33,
   "metadata": {},
   "outputs": [],
   "source": [
    "# sanity\n",
    "# xb, yb = lm_data.one_batch(cpu=False)\n",
    "# out = learn.model(*xb); out\n",
    "# learn.loss_func(out, *yb)"
   ]
  },
  {
   "cell_type": "code",
   "execution_count": 34,
   "metadata": {},
   "outputs": [
    {
     "data": {
      "text/html": [
       "<table border=\"1\" class=\"dataframe\">\n",
       "  <thead>\n",
       "    <tr style=\"text-align: left;\">\n",
       "      <th>epoch</th>\n",
       "      <th>train_loss</th>\n",
       "      <th>valid_loss</th>\n",
       "      <th>mask_acc</th>\n",
       "      <th>lm_acc</th>\n",
       "      <th>c2m_acc</th>\n",
       "      <th>m2c_acc</th>\n",
       "      <th>time</th>\n",
       "    </tr>\n",
       "  </thead>\n",
       "  <tbody>\n",
       "    <tr>\n",
       "      <td>0</td>\n",
       "      <td>7.732110</td>\n",
       "      <td>7.723254</td>\n",
       "      <td>0.000000</td>\n",
       "      <td>0.000000</td>\n",
       "      <td>0.246377</td>\n",
       "      <td>0.102564</td>\n",
       "      <td>00:06</td>\n",
       "    </tr>\n",
       "    <tr>\n",
       "      <td>1</td>\n",
       "      <td>7.216924</td>\n",
       "      <td>7.977366</td>\n",
       "      <td>0.000000</td>\n",
       "      <td>0.000000</td>\n",
       "      <td>0.000000</td>\n",
       "      <td>0.205128</td>\n",
       "      <td>00:06</td>\n",
       "    </tr>\n",
       "    <tr>\n",
       "      <td>2</td>\n",
       "      <td>7.219326</td>\n",
       "      <td>6.299927</td>\n",
       "      <td>0.188406</td>\n",
       "      <td>0.000000</td>\n",
       "      <td>0.405797</td>\n",
       "      <td>0.000000</td>\n",
       "      <td>00:06</td>\n",
       "    </tr>\n",
       "    <tr>\n",
       "      <td>3</td>\n",
       "      <td>6.878902</td>\n",
       "      <td>6.225748</td>\n",
       "      <td>0.285714</td>\n",
       "      <td>0.318182</td>\n",
       "      <td>0.000000</td>\n",
       "      <td>0.205128</td>\n",
       "      <td>00:06</td>\n",
       "    </tr>\n",
       "  </tbody>\n",
       "</table>"
      ],
      "text/plain": [
       "<IPython.core.display.HTML object>"
      ]
     },
     "metadata": {},
     "output_type": "display_data"
    }
   ],
   "source": [
    "learn.fit_one_cycle(4)"
   ]
  },
  {
   "cell_type": "markdown",
   "metadata": {},
   "source": [
    "## 5. Prediction time"
   ]
  },
  {
   "cell_type": "code",
   "execution_count": null,
   "metadata": {},
   "outputs": [],
   "source": [
    "midi_files = get_files(data_path, '.mid', recurse=True)\n",
    "midi_file = midi_files[0]; midi_file"
   ]
  },
  {
   "cell_type": "code",
   "execution_count": 24,
   "metadata": {},
   "outputs": [
    {
     "data": {
      "text/plain": [
       "(304,)"
      ]
     },
     "execution_count": 24,
     "metadata": {},
     "output_type": "execute_result"
    }
   ],
   "source": [
    "idxenc = midi2idxenc(midi_file); idxenc.shape"
   ]
  },
  {
   "cell_type": "markdown",
   "metadata": {},
   "source": [
    "Only send a few notes "
   ]
  },
  {
   "cell_type": "code",
   "execution_count": 25,
   "metadata": {},
   "outputs": [
    {
     "data": {
      "text/plain": [
       "torch.Size([1, 100])"
      ]
     },
     "execution_count": 25,
     "metadata": {},
     "output_type": "execute_result"
    }
   ],
   "source": [
    "# convert numpy encoding to torch tensor. \n",
    "seed_len = 100\n",
    "seed = torch.from_numpy(idxenc)[:seed_len][None]; seed.shape"
   ]
  },
  {
   "cell_type": "markdown",
   "metadata": {},
   "source": [
    "Here's what the seed sounds like:"
   ]
  },
  {
   "cell_type": "code",
   "execution_count": 26,
   "metadata": {},
   "outputs": [
    {
     "data": {
      "image/png": "[encoded data removed]",
      "text/plain": [
       "<IPython.core.display.Image object>"
      ]
     },
     "metadata": {
      "image/png": {
       "height": 97,
       "width": 748
      }
     },
     "output_type": "display_data"
    }
   ],
   "source": [
    "seed_stream = idxenc2stream(seed.cpu().numpy()[0])\n",
    "seed_stream.show()"
   ]
  },
  {
   "cell_type": "markdown",
   "metadata": {},
   "source": [
    "### Start Predictions:"
   ]
  },
  {
   "cell_type": "code",
   "execution_count": 28,
   "metadata": {},
   "outputs": [
    {
     "data": {
      "text/html": [
       "\n",
       "    <div>\n",
       "        <style>\n",
       "            /* Turns off some styling */\n",
       "            progress {\n",
       "                /* gets rid of default border in Firefox and Opera. */\n",
       "                border: none;\n",
       "                /* Needs to be in here for Safari polyfill so background images work as expected. */\n",
       "                background-size: auto;\n",
       "            }\n",
       "            .progress-bar-interrupted, .progress-bar-interrupted::-webkit-progress-bar {\n",
       "                background: #F44336;\n",
       "            }\n",
       "        </style>\n",
       "      <progress value='100' class='' max='100', style='width:300px; height:20px; vertical-align: middle;'></progress>\n",
       "      100.00% [100/100 00:01<00:00]\n",
       "    </div>\n",
       "    "
      ],
      "text/plain": [
       "<IPython.core.display.HTML object>"
      ]
     },
     "metadata": {},
     "output_type": "display_data"
    }
   ],
   "source": [
    "out, seed = learn.predict(seed.cuda(), n_words=100)"
   ]
  },
  {
   "cell_type": "markdown",
   "metadata": {},
   "source": [
    "Seed - used for prediction"
   ]
  },
  {
   "cell_type": "markdown",
   "metadata": {},
   "source": [
    "Prediction"
   ]
  },
  {
   "cell_type": "code",
   "execution_count": 29,
   "metadata": {},
   "outputs": [
    {
     "name": "stdout",
     "output_type": "stream",
     "text": [
      "Non midi note detected. Only returning valid portion. Index, seed 3 (50, 2)\n"
     ]
    },
    {
     "ename": "ValueError",
     "evalue": "negative dimensions are not allowed",
     "output_type": "error",
     "traceback": [
      "\u001b[0;31m---------------------------------------------------------------------------\u001b[0m",
      "\u001b[0;31mValueError\u001b[0m                                Traceback (most recent call last)",
      "\u001b[0;32m<ipython-input-29-af478deac7a7>\u001b[0m in \u001b[0;36m<module>\u001b[0;34m\u001b[0m\n\u001b[1;32m      1\u001b[0m \u001b[0;31m# Prediction\u001b[0m\u001b[0;34m\u001b[0m\u001b[0;34m\u001b[0m\u001b[0;34m\u001b[0m\u001b[0m\n\u001b[0;32m----> 2\u001b[0;31m \u001b[0mstream\u001b[0m \u001b[0;34m=\u001b[0m \u001b[0midxenc2stream\u001b[0m\u001b[0;34m(\u001b[0m\u001b[0mout\u001b[0m\u001b[0;34m)\u001b[0m\u001b[0;34m\u001b[0m\u001b[0;34m\u001b[0m\u001b[0m\n\u001b[0m\u001b[1;32m      3\u001b[0m \u001b[0mstream\u001b[0m\u001b[0;34m.\u001b[0m\u001b[0mshow\u001b[0m\u001b[0;34m(\u001b[0m\u001b[0;34m)\u001b[0m\u001b[0;34m\u001b[0m\u001b[0;34m\u001b[0m\u001b[0m\n",
      "\u001b[0;32m~/refactor_midi_generator/midi_generator/src/fastai_data.py\u001b[0m in \u001b[0;36midxenc2stream\u001b[0;34m(arr, bpm)\u001b[0m\n\u001b[1;32m    103\u001b[0m     \u001b[0;34m\"Converts numpy encoding to music21 stream\"\u001b[0m\u001b[0;34m\u001b[0m\u001b[0;34m\u001b[0m\u001b[0m\n\u001b[1;32m    104\u001b[0m     \u001b[0mnpenc\u001b[0m \u001b[0;34m=\u001b[0m \u001b[0mto_double_stream\u001b[0m\u001b[0;34m(\u001b[0m\u001b[0marr\u001b[0m\u001b[0;34m)\u001b[0m\u001b[0;34m\u001b[0m\u001b[0;34m\u001b[0m\u001b[0m\n\u001b[0;32m--> 105\u001b[0;31m     \u001b[0mchordarr\u001b[0m \u001b[0;34m=\u001b[0m \u001b[0mnpenc2chordarr\u001b[0m\u001b[0;34m(\u001b[0m\u001b[0mnpenc\u001b[0m\u001b[0;34m)\u001b[0m \u001b[0;31m# 1.\u001b[0m\u001b[0;34m\u001b[0m\u001b[0;34m\u001b[0m\u001b[0m\n\u001b[0m\u001b[1;32m    106\u001b[0m     \u001b[0;32mreturn\u001b[0m \u001b[0mchordarr2stream\u001b[0m\u001b[0;34m(\u001b[0m\u001b[0mchordarr\u001b[0m\u001b[0;34m,\u001b[0m \u001b[0mbpm\u001b[0m\u001b[0;34m=\u001b[0m\u001b[0mbpm\u001b[0m\u001b[0;34m)\u001b[0m \u001b[0;31m# 2.\u001b[0m\u001b[0;34m\u001b[0m\u001b[0;34m\u001b[0m\u001b[0m\n\u001b[1;32m    107\u001b[0m \u001b[0;34m\u001b[0m\u001b[0m\n",
      "\u001b[0;32m~/refactor_midi_generator/midi_generator/src/encode_data.py\u001b[0m in \u001b[0;36mnpenc2chordarr\u001b[0;34m(npenc, note_size)\u001b[0m\n\u001b[1;32m    165\u001b[0m     \u001b[0mmax_len\u001b[0m \u001b[0;34m=\u001b[0m \u001b[0mnpenc_len\u001b[0m\u001b[0;34m(\u001b[0m\u001b[0mnpenc\u001b[0m\u001b[0;34m)\u001b[0m\u001b[0;34m\u001b[0m\u001b[0;34m\u001b[0m\u001b[0m\n\u001b[1;32m    166\u001b[0m     \u001b[0;31m# score_arr = (steps, inst, note)\u001b[0m\u001b[0;34m\u001b[0m\u001b[0;34m\u001b[0m\u001b[0;34m\u001b[0m\u001b[0m\n\u001b[0;32m--> 167\u001b[0;31m     \u001b[0mscore_arr\u001b[0m \u001b[0;34m=\u001b[0m \u001b[0mnp\u001b[0m\u001b[0;34m.\u001b[0m\u001b[0mzeros\u001b[0m\u001b[0;34m(\u001b[0m\u001b[0;34m(\u001b[0m\u001b[0mmax_len\u001b[0m\u001b[0;34m,\u001b[0m \u001b[0mnum_instruments\u001b[0m\u001b[0;34m,\u001b[0m \u001b[0mnote_size\u001b[0m\u001b[0;34m)\u001b[0m\u001b[0;34m)\u001b[0m\u001b[0;34m\u001b[0m\u001b[0;34m\u001b[0m\u001b[0m\n\u001b[0m\u001b[1;32m    168\u001b[0m \u001b[0;34m\u001b[0m\u001b[0m\n\u001b[1;32m    169\u001b[0m     \u001b[0midx\u001b[0m \u001b[0;34m=\u001b[0m \u001b[0;36m0\u001b[0m\u001b[0;34m\u001b[0m\u001b[0;34m\u001b[0m\u001b[0m\n",
      "\u001b[0;31mValueError\u001b[0m: negative dimensions are not allowed"
     ]
    }
   ],
   "source": [
    "# Prediction\n",
    "stream = idxenc2stream(out)\n",
    "stream.show()"
   ]
  },
  {
   "cell_type": "code",
   "execution_count": null,
   "metadata": {},
   "outputs": [],
   "source": [
    "stream.show('midi')"
   ]
  }
 ],
 "metadata": {
  "kernelspec": {
   "display_name": "Python 3",
   "language": "python",
   "name": "python3"
  },
  "language_info": {
   "codemirror_mode": {
    "name": "ipython",
    "version": 3
   },
   "file_extension": ".py",
   "mimetype": "text/x-python",
   "name": "python",
   "nbconvert_exporter": "python",
   "pygments_lexer": "ipython3",
   "version": "3.7.3"
  }
 },
 "nbformat": 4,
 "nbformat_minor": 2
}
