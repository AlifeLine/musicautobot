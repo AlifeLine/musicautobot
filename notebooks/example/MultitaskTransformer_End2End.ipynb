{
 "cells": [
  {
   "cell_type": "code",
   "execution_count": 1,
   "metadata": {},
   "outputs": [],
   "source": [
    "%reload_ext autoreload\n",
    "%autoreload 2\n",
    "%matplotlib inline"
   ]
  },
  {
   "cell_type": "code",
   "execution_count": 2,
   "metadata": {},
   "outputs": [],
   "source": [
    "import os\n",
    "os.chdir('../../')"
   ]
  },
  {
   "cell_type": "code",
   "execution_count": 3,
   "metadata": {},
   "outputs": [],
   "source": [
    "from src.numpy_encode import *\n",
    "from src.utils.file_processing import process_all, process_file\n",
    "from src.config import *\n",
    "from src.music_transformer import *\n",
    "from src.multitask_transformer import *\n",
    "from src.utils.stacked_dataloader import StackedDataBunch"
   ]
  },
  {
   "cell_type": "code",
   "execution_count": 4,
   "metadata": {},
   "outputs": [],
   "source": [
    "from fastai.text import *"
   ]
  },
  {
   "cell_type": "markdown",
   "metadata": {},
   "source": [
    "## Example notebook explaining how to encode midi to numpy array and train with fastai\n",
    "\n",
    "Numpy format "
   ]
  },
  {
   "cell_type": "code",
   "execution_count": 5,
   "metadata": {},
   "outputs": [],
   "source": [
    "data_path = Path('data')\n",
    "\n",
    "# Location of your midi files\n",
    "midi_path = data_path/'midi'\n",
    "midi_path.mkdir(parents=True, exist_ok=True)\n",
    "\n",
    "# Location of transformed midi to numpy dataset\n",
    "numpy_path = data_path/'numpy'/'combined_tracks'\n",
    "numpy_path.mkdir(parents=True, exist_ok=True)\n",
    "\n",
    "s2s_path = data_path/'numpy'/'split_melody_chord'\n",
    "s2s_path.mkdir(parents=True, exist_ok=True)\n",
    "\n",
    "data_save_name = 'multi_data_idxenc.pkl'\n",
    "s2s_data_save_name = 'multi_data_s2s.pkl'"
   ]
  },
  {
   "cell_type": "markdown",
   "metadata": {},
   "source": [
    "## 1. Gather midi dataset"
   ]
  },
  {
   "cell_type": "markdown",
   "metadata": {},
   "source": [
    "Make sure all your midi data is in `musicautobot/data/midi` directory"
   ]
  },
  {
   "cell_type": "markdown",
   "metadata": {},
   "source": [
    "Here's a pretty good dataset with lots of midi data:  \n",
    "https://www.reddit.com/r/datasets/comments/3akhxy/the_largest_midi_collection_on_the_internet/\n",
    "\n",
    "Download the folder and unzip it to `data/midi`"
   ]
  },
  {
   "cell_type": "markdown",
   "metadata": {},
   "source": [
    "### 2. Encode midi files to numpy\n",
    "\n",
    "For more in customized encoding - see `notebooks/dataformatting/2-DataFormatting-AllCombined-X.ipynb`"
   ]
  },
  {
   "cell_type": "code",
   "execution_count": 6,
   "metadata": {},
   "outputs": [
    {
     "data": {
      "text/plain": [
       "18"
      ]
     },
     "execution_count": 6,
     "metadata": {},
     "output_type": "execute_result"
    }
   ],
   "source": [
    "midi_files = get_files(midi_path, '.mid', recurse=True); len(midi_files)"
   ]
  },
  {
   "cell_type": "code",
   "execution_count": 7,
   "metadata": {},
   "outputs": [],
   "source": [
    "def npenc_tfm(midi_file):\n",
    "    try:\n",
    "        npenc = midi2npenc(midi_file)\n",
    "    except Exception as e:\n",
    "        print('Could not encode to file:', midi_file, e)\n",
    "        return None\n",
    "    \n",
    "    if not is_valid_npenc(npenc, input_path=midi_file):\n",
    "        return None\n",
    "    \n",
    "    return npenc"
   ]
  },
  {
   "cell_type": "code",
   "execution_count": 8,
   "metadata": {},
   "outputs": [],
   "source": [
    "process_func = partial(process_file, tfm_func=npenc_tfm, src_path=midi_path, dest_path=numpy_path)"
   ]
  },
  {
   "cell_type": "code",
   "execution_count": 9,
   "metadata": {
    "scrolled": true
   },
   "outputs": [
    {
     "data": {
      "text/html": [
       "\n",
       "    <div>\n",
       "        <style>\n",
       "            /* Turns off some styling */\n",
       "            progress {\n",
       "                /* gets rid of default border in Firefox and Opera. */\n",
       "                border: none;\n",
       "                /* Needs to be in here for Safari polyfill so background images work as expected. */\n",
       "                background-size: auto;\n",
       "            }\n",
       "            .progress-bar-interrupted, .progress-bar-interrupted::-webkit-progress-bar {\n",
       "                background: #F44336;\n",
       "            }\n",
       "        </style>\n",
       "      <progress value='18' class='' max='18', style='width:300px; height:20px; vertical-align: middle;'></progress>\n",
       "      100.00% [18/18 00:00<00:00]\n",
       "    </div>\n",
       "    "
      ],
      "text/plain": [
       "<IPython.core.display.HTML object>"
      ]
     },
     "metadata": {},
     "output_type": "display_data"
    },
    {
     "data": {
      "text/plain": [
       "[PosixPath('data/numpy/combined_tracks/examples/Levels - Avicii - Verse.npy'),\n",
       " PosixPath('data/numpy/combined_tracks/examples/Colors Of The Wind - Disney - Chorus.npy')]"
      ]
     },
     "execution_count": 9,
     "metadata": {},
     "output_type": "execute_result"
    }
   ],
   "source": [
    "processed = process_all(process_func, midi_files, timeout=50); processed[:2]"
   ]
  },
  {
   "cell_type": "markdown",
   "metadata": {},
   "source": [
    "## 3. Create dataset from encoded files"
   ]
  },
  {
   "cell_type": "code",
   "execution_count": 10,
   "metadata": {},
   "outputs": [],
   "source": [
    "vocab = MusicVocab.create()\n",
    "processors = [OpenNPFileProcessor(), MusicItemProcessor()]\n",
    "\n",
    "data = MusicDataBunch.from_folder(numpy_path, processors=processors)\n",
    "data.save(data_save_name)"
   ]
  },
  {
   "cell_type": "markdown",
   "metadata": {},
   "source": [
    "## 3b. Encode sequence 2 sequence files"
   ]
  },
  {
   "cell_type": "code",
   "execution_count": 11,
   "metadata": {},
   "outputs": [],
   "source": [
    "def npenc_parts_tfm(midi_file):\n",
    "    # Part 2. Compress rests and long notes\n",
    "    stream = file2stream(midi_file) # 1.\n",
    "    try:\n",
    "        chordarr = stream2chordarr(stream) # 2. max_dur = quarter_len * sample_freq (4). 128 = 8 bars\n",
    "    except Exception as e:\n",
    "        print('Could not encode to chordarr:', midi_file, e)\n",
    "        return None\n",
    "    \n",
    "    \n",
    "    # Only 2 piano parts allowed\n",
    "    _,num_parts,_ = chordarr.shape\n",
    "    if num_parts != 2: return None\n",
    "    \n",
    "    # Individual parts must have notes\n",
    "    parts = [part_enc(chordarr, i) for i in range(num_parts)]\n",
    "    for p in parts: \n",
    "        if not is_valid_npenc(p, min_notes=8, input_path=midi_file): return None\n",
    "        \n",
    "    # order by pitch: assuming melody note > chords\n",
    "    p1, p2 = parts\n",
    "    m, c = (p1, p2) if avg_pitch(p1) > avg_pitch(p2) else (p2, p1) # Assuming melody has higher pitch\n",
    "    \n",
    "    return np.array([m, c])"
   ]
  },
  {
   "cell_type": "code",
   "execution_count": 12,
   "metadata": {},
   "outputs": [],
   "source": [
    "s2s_process_func = partial(process_file, tfm_func=npenc_parts_tfm, src_path=midi_path, dest_path=s2s_path)"
   ]
  },
  {
   "cell_type": "code",
   "execution_count": 13,
   "metadata": {},
   "outputs": [
    {
     "data": {
      "text/html": [
       "\n",
       "    <div>\n",
       "        <style>\n",
       "            /* Turns off some styling */\n",
       "            progress {\n",
       "                /* gets rid of default border in Firefox and Opera. */\n",
       "                border: none;\n",
       "                /* Needs to be in here for Safari polyfill so background images work as expected. */\n",
       "                background-size: auto;\n",
       "            }\n",
       "            .progress-bar-interrupted, .progress-bar-interrupted::-webkit-progress-bar {\n",
       "                background: #F44336;\n",
       "            }\n",
       "        </style>\n",
       "      <progress value='18' class='' max='18', style='width:300px; height:20px; vertical-align: middle;'></progress>\n",
       "      100.00% [18/18 00:00<00:00]\n",
       "    </div>\n",
       "    "
      ],
      "text/plain": [
       "<IPython.core.display.HTML object>"
      ]
     },
     "metadata": {},
     "output_type": "display_data"
    },
    {
     "data": {
      "text/plain": [
       "[PosixPath('data/numpy/split_melody_chord/examples/Levels - Avicii - Verse.npy'),\n",
       " PosixPath('data/numpy/split_melody_chord/examples/Colors Of The Wind - Disney - Chorus.npy')]"
      ]
     },
     "execution_count": 13,
     "metadata": {},
     "output_type": "execute_result"
    }
   ],
   "source": [
    "processed = process_all(s2s_process_func, midi_files, timeout=50); processed[:2]"
   ]
  },
  {
   "cell_type": "code",
   "execution_count": 15,
   "metadata": {},
   "outputs": [
    {
     "name": "stdout",
     "output_type": "stream",
     "text": [
      "You can deactivate this warning by passing `no_check=True`.\n"
     ]
    }
   ],
   "source": [
    "processors = [S2SFileProcessor(), S2SPartsProcessor()]\n",
    "\n",
    "s2s_data = MusicDataBunch.from_folder(s2s_path, processors=processors, preloader_cls=S2SPreloader, list_cls=S2SItemList)\n",
    "s2s_data.save(s2s_data_save_name)"
   ]
  },
  {
   "cell_type": "code",
   "execution_count": 16,
   "metadata": {},
   "outputs": [
    {
     "data": {
      "text/plain": [
       "src.multitask_transformer.dataloader.S2SItemList"
      ]
     },
     "execution_count": 16,
     "metadata": {},
     "output_type": "execute_result"
    }
   ],
   "source": [
    "type(s2s_data.train_dl.dl.dataset.dataset.x)"
   ]
  },
  {
   "cell_type": "code",
   "execution_count": 19,
   "metadata": {},
   "outputs": [],
   "source": [
    "item = s2s_data.train_dl.dl.dataset.dataset.x[0]"
   ]
  },
  {
   "cell_type": "code",
   "execution_count": 23,
   "metadata": {},
   "outputs": [
    {
     "data": {
      "text/plain": [
       "[tensor([[  6,   1,   8,  ...,  66, 138,   8],\n",
       "         [  6,   1,  77,  ...,   8, 139,  72],\n",
       "         [  6,   1,   8,  ...,  71, 139,   8],\n",
       "         ...,\n",
       "         [  6,   1,   8,  ...,  90, 138,   8],\n",
       "         [  6,   1,  76,  ...,   8, 138,  69],\n",
       "         [  6,   1,  74,  ...,   8, 139,  73]], device='cuda:0'),\n",
       " tensor([[  0,   0,   0,  ..., -36, -36, -36],\n",
       "         [  0,   0,   0,  ..., -40, -40, -42],\n",
       "         [  0,   0,   0,  ..., -46, -46, -46],\n",
       "         ...,\n",
       "         [  0,   0,   0,  ..., -31, -31, -31],\n",
       "         [  0,   0,   0,  ..., -31, -31, -32],\n",
       "         [  0,   0,   0,  ..., -70, -70, -72]], device='cuda:0'),\n",
       " tensor([[  5,   1,  64,  ...,   1,   1,   1],\n",
       "         [  5,   1,  57,  ...,   8, 145,  67],\n",
       "         [  5,   1,   8,  ...,  64, 145,  61],\n",
       "         ...,\n",
       "         [  5,   1,   8,  ...,  61, 145,   8],\n",
       "         [  5,   1,  64,  ...,   8, 142,  69],\n",
       "         [  5,   1,  69,  ...,   1,   1,   1]], device='cuda:0'),\n",
       " tensor([[  0,   0,   0,  ...,   0,   0,   0],\n",
       "         [  0,   0,   0,  ..., -72, -72, -80],\n",
       "         [  0,   0,   0,  ..., -80, -80, -80],\n",
       "         ...,\n",
       "         [  0,   0,   0,  ..., -64, -64, -64],\n",
       "         [  0,   0,   0,  ..., -27, -27, -32],\n",
       "         [  0,   0,   0,  ...,   0,   0,   0]], device='cuda:0')]"
      ]
     },
     "execution_count": 23,
     "metadata": {},
     "output_type": "execute_result"
    }
   ],
   "source": [
    "next(iter(s2s_data.train_dl))"
   ]
  },
  {
   "cell_type": "markdown",
   "metadata": {},
   "source": [
    "## 4. Load Model"
   ]
  },
  {
   "cell_type": "code",
   "execution_count": 24,
   "metadata": {},
   "outputs": [],
   "source": [
    "batch_size = 2\n",
    "position_preloader=partial(MusicPreloader, encode_position=True)\n",
    "lm_data = load_data(numpy_path, data_save_name, bs=batch_size, dl_tfms=mask_lm_tfm, preloader_cls=position_preloader)\n",
    "\n",
    "s2s_data = load_data(s2s_path, s2s_data_save_name, \n",
    "                     bs=batch_size//2, preloader_cls=S2SPreloader, dl_tfms=melody_chord_tfm)"
   ]
  },
  {
   "cell_type": "code",
   "execution_count": 25,
   "metadata": {},
   "outputs": [],
   "source": [
    "data = StackedDataBunch([lm_data, s2s_data])"
   ]
  },
  {
   "cell_type": "code",
   "execution_count": 26,
   "metadata": {},
   "outputs": [
    {
     "data": {
      "text/plain": [
       "{'ctx_len': 150,\n",
       " 'n_heads': 8,\n",
       " 'd_model': 512,\n",
       " 'd_head': 64,\n",
       " 'd_inner': 2048,\n",
       " 'resid_p': 0.1,\n",
       " 'attn_p': 0.1,\n",
       " 'ff_p': 0.1,\n",
       " 'embed_p': 0.1,\n",
       " 'output_p': 0.1,\n",
       " 'bias': True,\n",
       " 'scale': True,\n",
       " 'act': <Activation.GeLU: 3>,\n",
       " 'double_drop': True,\n",
       " 'tie_weights': True,\n",
       " 'out_bias': True,\n",
       " 'init': <function fastai.text.models.transformer.init_transformer(m)>,\n",
       " 'mem_len': 512,\n",
       " 'mask': True,\n",
       " 'transpose_range': (0, 12),\n",
       " 'bs': 16,\n",
       " 'bptt': 256,\n",
       " 'enc_layers': 8,\n",
       " 'dec_layers': 8}"
      ]
     },
     "execution_count": 26,
     "metadata": {},
     "output_type": "execute_result"
    }
   ],
   "source": [
    "config = mlm_config().copy(); config"
   ]
  },
  {
   "cell_type": "code",
   "execution_count": 27,
   "metadata": {},
   "outputs": [],
   "source": [
    "learn = multitask_model_learner(data, config.copy())"
   ]
  },
  {
   "cell_type": "code",
   "execution_count": 28,
   "metadata": {},
   "outputs": [
    {
     "data": {
      "text/html": [
       "<table border=\"1\" class=\"dataframe\">\n",
       "  <thead>\n",
       "    <tr style=\"text-align: left;\">\n",
       "      <th>epoch</th>\n",
       "      <th>train_loss</th>\n",
       "      <th>valid_loss</th>\n",
       "      <th>mask_acc</th>\n",
       "      <th>lm_acc</th>\n",
       "      <th>c2m_acc</th>\n",
       "      <th>m2c_acc</th>\n",
       "      <th>time</th>\n",
       "    </tr>\n",
       "  </thead>\n",
       "  <tbody>\n",
       "    <tr>\n",
       "      <td>0</td>\n",
       "      <td>7.223485</td>\n",
       "      <td>11.677014</td>\n",
       "      <td>0.028986</td>\n",
       "      <td>0.040000</td>\n",
       "      <td>0.000000</td>\n",
       "      <td>0.205128</td>\n",
       "      <td>00:06</td>\n",
       "    </tr>\n",
       "    <tr>\n",
       "      <td>1</td>\n",
       "      <td>7.377974</td>\n",
       "      <td>6.527400</td>\n",
       "      <td>0.362319</td>\n",
       "      <td>0.210526</td>\n",
       "      <td>0.246377</td>\n",
       "      <td>0.102564</td>\n",
       "      <td>00:06</td>\n",
       "    </tr>\n",
       "    <tr>\n",
       "      <td>2</td>\n",
       "      <td>6.928319</td>\n",
       "      <td>6.346519</td>\n",
       "      <td>0.085714</td>\n",
       "      <td>0.000000</td>\n",
       "      <td>0.246377</td>\n",
       "      <td>0.102564</td>\n",
       "      <td>00:06</td>\n",
       "    </tr>\n",
       "    <tr>\n",
       "      <td>3</td>\n",
       "      <td>6.733336</td>\n",
       "      <td>6.031268</td>\n",
       "      <td>0.000000</td>\n",
       "      <td>0.178571</td>\n",
       "      <td>0.246377</td>\n",
       "      <td>0.102564</td>\n",
       "      <td>00:06</td>\n",
       "    </tr>\n",
       "  </tbody>\n",
       "</table>"
      ],
      "text/plain": [
       "<IPython.core.display.HTML object>"
      ]
     },
     "metadata": {},
     "output_type": "display_data"
    }
   ],
   "source": [
    "learn.fit_one_cycle(4)"
   ]
  },
  {
   "cell_type": "markdown",
   "metadata": {},
   "source": [
    "## 5. Prediction time"
   ]
  },
  {
   "cell_type": "code",
   "execution_count": 29,
   "metadata": {},
   "outputs": [
    {
     "data": {
      "text/plain": [
       "PosixPath('data/midi/examples/Levels - Avicii - Verse.mid')"
      ]
     },
     "execution_count": 29,
     "metadata": {},
     "output_type": "execute_result"
    }
   ],
   "source": [
    "midi_files = get_files(data_path, '.mid', recurse=True)\n",
    "midi_file = midi_files[0]; midi_file"
   ]
  },
  {
   "cell_type": "code",
   "execution_count": 30,
   "metadata": {},
   "outputs": [],
   "source": [
    "# item = MusicItem.from_file(midi_file, data.vocab)\n",
    "# item.show()"
   ]
  },
  {
   "cell_type": "code",
   "execution_count": 31,
   "metadata": {},
   "outputs": [
    {
     "data": {
      "image/png": "[encoded data removed]",
      "text/plain": [
       "<IPython.core.display.Image object>"
      ]
     },
     "metadata": {
      "image/png": {
       "height": 357,
       "width": 748
      }
     },
     "output_type": "display_data"
    }
   ],
   "source": [
    "file2stream(midi_file).show()"
   ]
  },
  {
   "cell_type": "markdown",
   "metadata": {},
   "source": [
    "Only send a few notes "
   ]
  },
  {
   "cell_type": "code",
   "execution_count": 27,
   "metadata": {},
   "outputs": [
    {
     "ename": "NameError",
     "evalue": "name 'idxenc' is not defined",
     "output_type": "error",
     "traceback": [
      "\u001b[0;31m---------------------------------------------------------------------------\u001b[0m",
      "\u001b[0;31mNameError\u001b[0m                                 Traceback (most recent call last)",
      "\u001b[0;32m<ipython-input-27-c6bd3c4610af>\u001b[0m in \u001b[0;36m<module>\u001b[0;34m\u001b[0m\n\u001b[1;32m      1\u001b[0m \u001b[0;31m# convert numpy encoding to torch tensor.\u001b[0m\u001b[0;34m\u001b[0m\u001b[0;34m\u001b[0m\u001b[0;34m\u001b[0m\u001b[0m\n\u001b[1;32m      2\u001b[0m \u001b[0mseed_len\u001b[0m \u001b[0;34m=\u001b[0m \u001b[0;36m100\u001b[0m\u001b[0;34m\u001b[0m\u001b[0;34m\u001b[0m\u001b[0m\n\u001b[0;32m----> 3\u001b[0;31m \u001b[0mseed\u001b[0m \u001b[0;34m=\u001b[0m \u001b[0mtorch\u001b[0m\u001b[0;34m.\u001b[0m\u001b[0mfrom_numpy\u001b[0m\u001b[0;34m(\u001b[0m\u001b[0midxenc\u001b[0m\u001b[0;34m)\u001b[0m\u001b[0;34m[\u001b[0m\u001b[0;34m:\u001b[0m\u001b[0mseed_len\u001b[0m\u001b[0;34m]\u001b[0m\u001b[0;34m[\u001b[0m\u001b[0;32mNone\u001b[0m\u001b[0;34m]\u001b[0m\u001b[0;34m;\u001b[0m \u001b[0mseed\u001b[0m\u001b[0;34m.\u001b[0m\u001b[0mshape\u001b[0m\u001b[0;34m\u001b[0m\u001b[0;34m\u001b[0m\u001b[0m\n\u001b[0m",
      "\u001b[0;31mNameError\u001b[0m: name 'idxenc' is not defined"
     ]
    }
   ],
   "source": [
    "# convert numpy encoding to torch tensor. \n",
    "seed_len = 100\n",
    "seed = torch.from_numpy(idxenc)[:seed_len][None]; seed.shape"
   ]
  },
  {
   "cell_type": "markdown",
   "metadata": {},
   "source": [
    "Here's what the seed sounds like:"
   ]
  },
  {
   "cell_type": "code",
   "execution_count": 24,
   "metadata": {},
   "outputs": [
    {
     "ename": "NameError",
     "evalue": "name 'seed' is not defined",
     "output_type": "error",
     "traceback": [
      "\u001b[0;31m---------------------------------------------------------------------------\u001b[0m",
      "\u001b[0;31mNameError\u001b[0m                                 Traceback (most recent call last)",
      "\u001b[0;32m<ipython-input-24-c9f2843d11e2>\u001b[0m in \u001b[0;36m<module>\u001b[0;34m\u001b[0m\n\u001b[0;32m----> 1\u001b[0;31m \u001b[0mseed_stream\u001b[0m \u001b[0;34m=\u001b[0m \u001b[0midxenc2stream\u001b[0m\u001b[0;34m(\u001b[0m\u001b[0mseed\u001b[0m\u001b[0;34m.\u001b[0m\u001b[0mcpu\u001b[0m\u001b[0;34m(\u001b[0m\u001b[0;34m)\u001b[0m\u001b[0;34m.\u001b[0m\u001b[0mnumpy\u001b[0m\u001b[0;34m(\u001b[0m\u001b[0;34m)\u001b[0m\u001b[0;34m[\u001b[0m\u001b[0;36m0\u001b[0m\u001b[0;34m]\u001b[0m\u001b[0;34m)\u001b[0m\u001b[0;34m\u001b[0m\u001b[0;34m\u001b[0m\u001b[0m\n\u001b[0m\u001b[1;32m      2\u001b[0m \u001b[0mseed_stream\u001b[0m\u001b[0;34m.\u001b[0m\u001b[0mshow\u001b[0m\u001b[0;34m(\u001b[0m\u001b[0;34m)\u001b[0m\u001b[0;34m\u001b[0m\u001b[0;34m\u001b[0m\u001b[0m\n",
      "\u001b[0;31mNameError\u001b[0m: name 'seed' is not defined"
     ]
    }
   ],
   "source": [
    "seed_stream = idxenc2stream(seed.cpu().numpy()[0])\n",
    "seed_stream.show()"
   ]
  },
  {
   "cell_type": "markdown",
   "metadata": {},
   "source": [
    "## Predictions"
   ]
  },
  {
   "cell_type": "markdown",
   "metadata": {},
   "source": [
    "#### 1. Next word prediction"
   ]
  },
  {
   "cell_type": "code",
   "execution_count": 31,
   "metadata": {},
   "outputs": [
    {
     "data": {
      "text/html": [
       "\n",
       "    <div>\n",
       "        <style>\n",
       "            /* Turns off some styling */\n",
       "            progress {\n",
       "                /* gets rid of default border in Firefox and Opera. */\n",
       "                border: none;\n",
       "                /* Needs to be in here for Safari polyfill so background images work as expected. */\n",
       "                background-size: auto;\n",
       "            }\n",
       "            .progress-bar-interrupted, .progress-bar-interrupted::-webkit-progress-bar {\n",
       "                background: #F44336;\n",
       "            }\n",
       "        </style>\n",
       "      <progress value='600' class='' max='600', style='width:300px; height:20px; vertical-align: middle;'></progress>\n",
       "      100.00% [600/600 00:07<00:00]\n",
       "    </div>\n",
       "    "
      ],
      "text/plain": [
       "<IPython.core.display.HTML object>"
      ]
     },
     "metadata": {},
     "output_type": "display_data"
    },
    {
     "data": {
      "text/plain": [
       "array([  0,   1,  85, 143, ..., 139,  73,  73,   8])"
      ]
     },
     "execution_count": 31,
     "metadata": {},
     "output_type": "execute_result"
    }
   ],
   "source": [
    "nw_predict_from_midi(learn, midi_file, seed_len=8)"
   ]
  },
  {
   "cell_type": "code",
   "execution_count": 35,
   "metadata": {},
   "outputs": [
    {
     "data": {
      "text/html": [
       "\n",
       "    <div>\n",
       "        <style>\n",
       "            /* Turns off some styling */\n",
       "            progress {\n",
       "                /* gets rid of default border in Firefox and Opera. */\n",
       "                border: none;\n",
       "                /* Needs to be in here for Safari polyfill so background images work as expected. */\n",
       "                background-size: auto;\n",
       "            }\n",
       "            .progress-bar-interrupted, .progress-bar-interrupted::-webkit-progress-bar {\n",
       "                background: #F44336;\n",
       "            }\n",
       "        </style>\n",
       "      <progress value='200' class='' max='200', style='width:300px; height:20px; vertical-align: middle;'></progress>\n",
       "      100.00% [200/200 00:04<00:00]\n",
       "    </div>\n",
       "    "
      ],
      "text/plain": [
       "<IPython.core.display.HTML object>"
      ]
     },
     "metadata": {},
     "output_type": "display_data"
    },
    {
     "name": "stdout",
     "output_type": "stream",
     "text": [
      "Non midi note detected. Only returning valid portion. Index, seed 16 (116, 2)\n"
     ]
    },
    {
     "data": {
      "text/plain": [
       "array([[[0., 0., 0., 0., ..., 0., 0., 0., 0.],\n",
       "        [0., 0., 0., 0., ..., 0., 0., 0., 0.]],\n",
       "\n",
       "       [[0., 0., 0., 0., ..., 0., 0., 0., 0.],\n",
       "        [0., 0., 0., 0., ..., 0., 0., 0., 0.]],\n",
       "\n",
       "       [[0., 0., 0., 0., ..., 0., 0., 0., 0.],\n",
       "        [0., 0., 0., 0., ..., 0., 0., 0., 0.]],\n",
       "\n",
       "       [[0., 0., 0., 0., ..., 0., 0., 0., 0.],\n",
       "        [0., 0., 0., 0., ..., 0., 0., 0., 0.]],\n",
       "\n",
       "       ...,\n",
       "\n",
       "       [[0., 0., 0., 0., ..., 0., 0., 0., 0.],\n",
       "        [0., 0., 0., 0., ..., 0., 0., 0., 0.]],\n",
       "\n",
       "       [[0., 0., 0., 0., ..., 0., 0., 0., 0.],\n",
       "        [0., 0., 0., 0., ..., 0., 0., 0., 0.]],\n",
       "\n",
       "       [[0., 0., 0., 0., ..., 0., 0., 0., 0.],\n",
       "        [0., 0., 0., 0., ..., 0., 0., 0., 0.]],\n",
       "\n",
       "       [[0., 0., 0., 0., ..., 0., 0., 0., 0.],\n",
       "        [0., 0., 0., 0., ..., 0., 0., 0., 0.]]])"
      ]
     },
     "execution_count": 35,
     "metadata": {},
     "output_type": "execute_result"
    }
   ],
   "source": [
    "chordarr = s2s_predict_from_midi(learn, midi_file, seed_len=8)"
   ]
  },
  {
   "cell_type": "code",
   "execution_count": 28,
   "metadata": {},
   "outputs": [
    {
     "data": {
      "text/html": [
       "\n",
       "    <div>\n",
       "        <style>\n",
       "            /* Turns off some styling */\n",
       "            progress {\n",
       "                /* gets rid of default border in Firefox and Opera. */\n",
       "                border: none;\n",
       "                /* Needs to be in here for Safari polyfill so background images work as expected. */\n",
       "                background-size: auto;\n",
       "            }\n",
       "            .progress-bar-interrupted, .progress-bar-interrupted::-webkit-progress-bar {\n",
       "                background: #F44336;\n",
       "            }\n",
       "        </style>\n",
       "      <progress value='100' class='' max='100', style='width:300px; height:20px; vertical-align: middle;'></progress>\n",
       "      100.00% [100/100 00:01<00:00]\n",
       "    </div>\n",
       "    "
      ],
      "text/plain": [
       "<IPython.core.display.HTML object>"
      ]
     },
     "metadata": {},
     "output_type": "display_data"
    }
   ],
   "source": [
    "out, seed = learn.predict(seed.cuda(), n_words=100)"
   ]
  },
  {
   "cell_type": "markdown",
   "metadata": {},
   "source": [
    "Seed - used for prediction"
   ]
  },
  {
   "cell_type": "markdown",
   "metadata": {},
   "source": [
    "Prediction"
   ]
  },
  {
   "cell_type": "code",
   "execution_count": 29,
   "metadata": {},
   "outputs": [
    {
     "name": "stdout",
     "output_type": "stream",
     "text": [
      "Non midi note detected. Only returning valid portion. Index, seed 3 (50, 2)\n"
     ]
    },
    {
     "ename": "ValueError",
     "evalue": "negative dimensions are not allowed",
     "output_type": "error",
     "traceback": [
      "\u001b[0;31m---------------------------------------------------------------------------\u001b[0m",
      "\u001b[0;31mValueError\u001b[0m                                Traceback (most recent call last)",
      "\u001b[0;32m<ipython-input-29-af478deac7a7>\u001b[0m in \u001b[0;36m<module>\u001b[0;34m\u001b[0m\n\u001b[1;32m      1\u001b[0m \u001b[0;31m# Prediction\u001b[0m\u001b[0;34m\u001b[0m\u001b[0;34m\u001b[0m\u001b[0;34m\u001b[0m\u001b[0m\n\u001b[0;32m----> 2\u001b[0;31m \u001b[0mstream\u001b[0m \u001b[0;34m=\u001b[0m \u001b[0midxenc2stream\u001b[0m\u001b[0;34m(\u001b[0m\u001b[0mout\u001b[0m\u001b[0;34m)\u001b[0m\u001b[0;34m\u001b[0m\u001b[0;34m\u001b[0m\u001b[0m\n\u001b[0m\u001b[1;32m      3\u001b[0m \u001b[0mstream\u001b[0m\u001b[0;34m.\u001b[0m\u001b[0mshow\u001b[0m\u001b[0;34m(\u001b[0m\u001b[0;34m)\u001b[0m\u001b[0;34m\u001b[0m\u001b[0;34m\u001b[0m\u001b[0m\n",
      "\u001b[0;32m~/refactor_midi_generator/midi_generator/src/fastai_data.py\u001b[0m in \u001b[0;36midxenc2stream\u001b[0;34m(arr, bpm)\u001b[0m\n\u001b[1;32m    103\u001b[0m     \u001b[0;34m\"Converts numpy encoding to music21 stream\"\u001b[0m\u001b[0;34m\u001b[0m\u001b[0;34m\u001b[0m\u001b[0m\n\u001b[1;32m    104\u001b[0m     \u001b[0mnpenc\u001b[0m \u001b[0;34m=\u001b[0m \u001b[0mto_double_stream\u001b[0m\u001b[0;34m(\u001b[0m\u001b[0marr\u001b[0m\u001b[0;34m)\u001b[0m\u001b[0;34m\u001b[0m\u001b[0;34m\u001b[0m\u001b[0m\n\u001b[0;32m--> 105\u001b[0;31m     \u001b[0mchordarr\u001b[0m \u001b[0;34m=\u001b[0m \u001b[0mnpenc2chordarr\u001b[0m\u001b[0;34m(\u001b[0m\u001b[0mnpenc\u001b[0m\u001b[0;34m)\u001b[0m \u001b[0;31m# 1.\u001b[0m\u001b[0;34m\u001b[0m\u001b[0;34m\u001b[0m\u001b[0m\n\u001b[0m\u001b[1;32m    106\u001b[0m     \u001b[0;32mreturn\u001b[0m \u001b[0mchordarr2stream\u001b[0m\u001b[0;34m(\u001b[0m\u001b[0mchordarr\u001b[0m\u001b[0;34m,\u001b[0m \u001b[0mbpm\u001b[0m\u001b[0;34m=\u001b[0m\u001b[0mbpm\u001b[0m\u001b[0;34m)\u001b[0m \u001b[0;31m# 2.\u001b[0m\u001b[0;34m\u001b[0m\u001b[0;34m\u001b[0m\u001b[0m\n\u001b[1;32m    107\u001b[0m \u001b[0;34m\u001b[0m\u001b[0m\n",
      "\u001b[0;32m~/refactor_midi_generator/midi_generator/src/encode_data.py\u001b[0m in \u001b[0;36mnpenc2chordarr\u001b[0;34m(npenc, note_size)\u001b[0m\n\u001b[1;32m    165\u001b[0m     \u001b[0mmax_len\u001b[0m \u001b[0;34m=\u001b[0m \u001b[0mnpenc_len\u001b[0m\u001b[0;34m(\u001b[0m\u001b[0mnpenc\u001b[0m\u001b[0;34m)\u001b[0m\u001b[0;34m\u001b[0m\u001b[0;34m\u001b[0m\u001b[0m\n\u001b[1;32m    166\u001b[0m     \u001b[0;31m# score_arr = (steps, inst, note)\u001b[0m\u001b[0;34m\u001b[0m\u001b[0;34m\u001b[0m\u001b[0;34m\u001b[0m\u001b[0m\n\u001b[0;32m--> 167\u001b[0;31m     \u001b[0mscore_arr\u001b[0m \u001b[0;34m=\u001b[0m \u001b[0mnp\u001b[0m\u001b[0;34m.\u001b[0m\u001b[0mzeros\u001b[0m\u001b[0;34m(\u001b[0m\u001b[0;34m(\u001b[0m\u001b[0mmax_len\u001b[0m\u001b[0;34m,\u001b[0m \u001b[0mnum_instruments\u001b[0m\u001b[0;34m,\u001b[0m \u001b[0mnote_size\u001b[0m\u001b[0;34m)\u001b[0m\u001b[0;34m)\u001b[0m\u001b[0;34m\u001b[0m\u001b[0;34m\u001b[0m\u001b[0m\n\u001b[0m\u001b[1;32m    168\u001b[0m \u001b[0;34m\u001b[0m\u001b[0m\n\u001b[1;32m    169\u001b[0m     \u001b[0midx\u001b[0m \u001b[0;34m=\u001b[0m \u001b[0;36m0\u001b[0m\u001b[0;34m\u001b[0m\u001b[0;34m\u001b[0m\u001b[0m\n",
      "\u001b[0;31mValueError\u001b[0m: negative dimensions are not allowed"
     ]
    }
   ],
   "source": [
    "# Prediction\n",
    "stream = idxenc2stream(out)\n",
    "stream.show()"
   ]
  },
  {
   "cell_type": "code",
   "execution_count": null,
   "metadata": {},
   "outputs": [],
   "source": [
    "stream.show('midi')"
   ]
  }
 ],
 "metadata": {
  "kernelspec": {
   "display_name": "Python 3",
   "language": "python",
   "name": "python3"
  },
  "language_info": {
   "codemirror_mode": {
    "name": "ipython",
    "version": 3
   },
   "file_extension": ".py",
   "mimetype": "text/x-python",
   "name": "python",
   "nbconvert_exporter": "python",
   "pygments_lexer": "ipython3",
   "version": "3.7.3"
  }
 },
 "nbformat": 4,
 "nbformat_minor": 2
}
